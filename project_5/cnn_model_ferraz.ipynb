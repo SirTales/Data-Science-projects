{
  "cells": [
    {
      "cell_type": "markdown",
      "metadata": {},
      "source": [
        "### Created by de Paula, Tales Ferraz, 2022\n",
        "\n",
        "*Contact info*: ferrazdepaula@ifsc.usp.br"
      ]
    },
    {
      "cell_type": "markdown",
      "metadata": {},
      "source": [
        "In this notebook, I create, compile and train a *deep learning* model using convolution neural network (CNN) for predicting the output of *fasion MNIST* dataset, and any other clothing you want! So, lets jump into it!"
      ]
    },
    {
      "cell_type": "markdown",
      "metadata": {},
      "source": [
        "#### Dependencies:\n",
        "- pip install numpy\n",
        "- pip install tensorflow\n",
        "- pip install -U matplotlib\n",
        "- pip install pandas\n",
        "- pip install -U scikit-learn\n",
        "- pip install -U albumentations"
      ]
    },
    {
      "cell_type": "markdown",
      "metadata": {
        "id": "WJfVA2wMnBeq"
      },
      "source": [
        "#### Importing libraries"
      ]
    },
    {
      "cell_type": "code",
      "execution_count": null,
      "metadata": {
        "id": "hyOhaaAiaoQS"
      },
      "outputs": [],
      "source": [
        "# Helpers libraries\n",
        "import numpy as np\n",
        "import pandas as pd\n",
        "import matplotlib.pyplot as plt\n",
        "\n",
        "from sklearn.model_selection import train_test_split\n",
        "import albumentations as A # for image augmentation"
      ]
    },
    {
      "cell_type": "code",
      "execution_count": null,
      "metadata": {
        "id": "0gbe-Bjjb3Fb"
      },
      "outputs": [],
      "source": [
        "# TensorFlow and tf. Keras libraries\n",
        "import tensorflow as tf\n",
        "from tensorflow import keras\n",
        "from tensorflow.keras import layers"
      ]
    },
    {
      "cell_type": "markdown",
      "metadata": {
        "id": "IgjwP7cgneQi"
      },
      "source": [
        "### If using Google Colab\n",
        "uncomment the line below"
      ]
    },
    {
      "cell_type": "code",
      "execution_count": null,
      "metadata": {
        "colab": {
          "base_uri": "https://localhost:8080/"
        },
        "id": "8WaAcmVycRai",
        "outputId": "3c5d145e-5597-4130-e675-944feebd092b"
      },
      "outputs": [
        {
          "name": "stdout",
          "output_type": "stream",
          "text": [
            "Mounted at /content/drive\n"
          ]
        }
      ],
      "source": [
        "# from google.colab import drive\n",
        "# drive.mount('/content/drive')"
      ]
    },
    {
      "cell_type": "markdown",
      "metadata": {
        "id": "dngpRRsjnnSL"
      },
      "source": [
        "### If using GPU\n",
        "uncomment the line below"
      ]
    },
    {
      "cell_type": "code",
      "execution_count": null,
      "metadata": {
        "colab": {
          "base_uri": "https://localhost:8080/"
        },
        "id": "P0UU6egtlhu5",
        "outputId": "56c0cefb-3492-4300-e915-759f935ae3b5"
      },
      "outputs": [
        {
          "name": "stdout",
          "output_type": "stream",
          "text": [
            "[name: \"/device:CPU:0\"\n",
            "device_type: \"CPU\"\n",
            "memory_limit: 268435456\n",
            "locality {\n",
            "}\n",
            "incarnation: 11568025749913238198\n",
            "xla_global_id: -1\n",
            ", name: \"/device:GPU:0\"\n",
            "device_type: \"GPU\"\n",
            "memory_limit: 40231960576\n",
            "locality {\n",
            "  bus_id: 1\n",
            "  links {\n",
            "  }\n",
            "}\n",
            "incarnation: 4974461065311558356\n",
            "physical_device_desc: \"device: 0, name: A100-SXM4-40GB, pci bus id: 0000:00:04.0, compute capability: 8.0\"\n",
            "xla_global_id: 416903419\n",
            "]\n",
            "Found GPU at: /device:GPU:0\n"
          ]
        }
      ],
      "source": [
        "# from tensorflow.compat.v1 import ConfigProto\n",
        "# from tensorflow.compat.v1 import InteractiveSession\n",
        "\n",
        "# config                          = ConfigProto()\n",
        "# config.gpu_options.allow_growth = True\n",
        "# session                         = InteractiveSession(config=config)\n",
        "\n",
        "# from tensorflow.python.client import device_lib\n",
        "# print(device_lib.list_local_devices())\n",
        "\n",
        "# device_name = tf.test.gpu_device_name()\n",
        "# if device_name != '/device:GPU:0':\n",
        "#   raise SystemError('GPU device not found')\n",
        "# print('Found GPU at: {}'.format(device_name))"
      ]
    },
    {
      "cell_type": "markdown",
      "metadata": {
        "id": "jdXw7q3moshK"
      },
      "source": [
        "### Loading dataset\n",
        "Lucky for me, the data set is already in the *TensorFlow*'s *Keras*. We simply need to call it (easy as pie!)"
      ]
    },
    {
      "cell_type": "code",
      "execution_count": null,
      "metadata": {
        "colab": {
          "base_uri": "https://localhost:8080/"
        },
        "id": "npuN_QgLa0em",
        "outputId": "0a091039-860d-4ff3-9595-bc489075f99e"
      },
      "outputs": [
        {
          "name": "stdout",
          "output_type": "stream",
          "text": [
            "Downloading data from https://storage.googleapis.com/tensorflow/tf-keras-datasets/train-labels-idx1-ubyte.gz\n",
            "29515/29515 [==============================] - 0s 0us/step\n",
            "Downloading data from https://storage.googleapis.com/tensorflow/tf-keras-datasets/train-images-idx3-ubyte.gz\n",
            "26421880/26421880 [==============================] - 0s 0us/step\n",
            "Downloading data from https://storage.googleapis.com/tensorflow/tf-keras-datasets/t10k-labels-idx1-ubyte.gz\n",
            "5148/5148 [==============================] - 0s 0us/step\n",
            "Downloading data from https://storage.googleapis.com/tensorflow/tf-keras-datasets/t10k-images-idx3-ubyte.gz\n",
            "4422102/4422102 [==============================] - 0s 0us/step\n"
          ]
        }
      ],
      "source": [
        "(x_train, y_train), (x_test, y_test) = tf.keras.datasets.fashion_mnist.load_data()\n",
        "\n",
        "class_names = ['T-shirt/top', \n",
        "               'Trouser',\n",
        "               'Pullover',\n",
        "               'Dress',\n",
        "               'Coat',\n",
        "               'Sandal',\n",
        "               'Shirt',\n",
        "               'Sneaker',\n",
        "               'Bag',\n",
        "               'Ankle boot']"
      ]
    },
    {
      "cell_type": "code",
      "execution_count": null,
      "metadata": {
        "colab": {
          "base_uri": "https://localhost:8080/"
        },
        "id": "SUKopqSyFv2b",
        "outputId": "bc9c6139-799f-404c-b60d-49d07f35af23"
      },
      "outputs": [
        {
          "name": "stdout",
          "output_type": "stream",
          "text": [
            "Pixel range foes from 0 to 255\n"
          ]
        }
      ],
      "source": [
        "#check pixel range\n",
        "print(\"Pixel range foes from\", np.min(x_train), \"to\", np.max(x_train))"
      ]
    },
    {
      "cell_type": "markdown",
      "metadata": {
        "id": "9_jUfUQGa4l4"
      },
      "source": [
        "#### Scaling the data based on max value of pixels"
      ]
    },
    {
      "cell_type": "code",
      "execution_count": null,
      "metadata": {
        "id": "tvNPGyy9Rr4h"
      },
      "outputs": [],
      "source": [
        "x_train = x_train/255\n",
        "x_test = x_test/255"
      ]
    },
    {
      "cell_type": "code",
      "execution_count": null,
      "metadata": {
        "colab": {
          "base_uri": "https://localhost:8080/"
        },
        "id": "9j1nQtK8Uptg",
        "outputId": "0cf02a18-6043-4725-ee59-9b440128a8c6"
      },
      "outputs": [
        {
          "data": {
            "text/plain": [
              "(28, 28)"
            ]
          },
          "execution_count": 8,
          "metadata": {},
          "output_type": "execute_result"
        }
      ],
      "source": [
        "np.shape(x_train[0]) #here we can check the shape, just to see if everything is in order"
      ]
    },
    {
      "cell_type": "code",
      "execution_count": null,
      "metadata": {
        "colab": {
          "base_uri": "https://localhost:8080/",
          "height": 472
        },
        "id": "L5JP2PzKFv2c",
        "outputId": "4c68776d-40bb-484c-ceb7-ca5cfeb5b88e"
      },
      "outputs": [
        {
          "data": {
            "image/png": "[encoded data removed]",
            "text/plain": [
              "<Figure size 1224x576 with 32 Axes>"
            ]
          },
          "metadata": {},
          "output_type": "display_data"
        }
      ],
      "source": [
        "# and here I plot some images just for visualization\n",
        "\n",
        "plt.figure(figsize=(17,8))\n",
        "\n",
        "for i in range(32):\n",
        "    plt.subplot(4,8,i+1)\n",
        "    plt.xticks([])\n",
        "    plt.yticks([])\n",
        "    plt.imshow(x_train[i], plt.get_cmap('gray'))\n",
        "    plt.xlabel(class_names[y_train[i]])"
      ]
    },
    {
      "cell_type": "markdown",
      "metadata": {
        "id": "V_-sLqcVoGNM"
      },
      "source": [
        "### Data Augmentation (or preprocessing, if you want)\n",
        "This is for not overfiting our model. We want scrambled images, zoomed in, zoomed out, upside down and stuff like that (be crazy!).\n"
      ]
    },
    {
      "cell_type": "code",
      "execution_count": null,
      "metadata": {
        "id": "GlFF1ghSuMs2"
      },
      "outputs": [],
      "source": [
        "x_train.setflags(write = 1) # in case you can't write to the images\n"
      ]
    },
    {
      "cell_type": "markdown",
      "metadata": {
        "id": "6SCD412vXksy"
      },
      "source": [
        "Actually, I chose not to do this step, because I was running out of time (I would need to retrain the model and all the other things)! But this should increase our accuracy for other images outside from our dataset."
      ]
    },
    {
      "cell_type": "code",
      "execution_count": null,
      "metadata": {
        "id": "wrbPujImbgUS"
      },
      "outputs": [],
      "source": [
        "'''\n",
        "In this case, we will only do some horizontal fliping, and some basic rotations.\n",
        "'''\n",
        "# transform = A.Compose([A.HorizontalFlip(p=0.3),  # horizontal flip, with probability of 50%\n",
        "#                        A.Rotate(45, p=0.3)])      # 45° rotation, with prob. of 50%"
      ]
    },
    {
      "cell_type": "code",
      "execution_count": null,
      "metadata": {
        "id": "lMDyBzWniS1c"
      },
      "outputs": [],
      "source": [
        "# for i in range(len(x_train)):\n",
        "  \n",
        "#   x_train[i] = transform(image = x_train[i])['image']"
      ]
    },
    {
      "cell_type": "code",
      "execution_count": null,
      "metadata": {
        "colab": {
          "base_uri": "https://localhost:8080/"
        },
        "id": "jq7Ft9t1inwa",
        "outputId": "b0d872ca-7c69-418a-d828-67edac19f0aa"
      },
      "outputs": [
        {
          "data": {
            "text/plain": [
              "array([9, 0, 0, ..., 3, 0, 5], dtype=uint8)"
            ]
          },
          "execution_count": 11,
          "metadata": {},
          "output_type": "execute_result"
        }
      ],
      "source": [
        "y_train # just to check ;)"
      ]
    },
    {
      "cell_type": "markdown",
      "metadata": {
        "id": "oOAoqdlxdR3M"
      },
      "source": [
        "## Building the CNN\n",
        "#### Objective: \n",
        "I will do a *Model* using the *Funcional API* for a more complex architecture."
      ]
    },
    {
      "cell_type": "code",
      "execution_count": null,
      "metadata": {
        "id": "O9qIwXWPbZME"
      },
      "outputs": [],
      "source": [
        "'''\n",
        "CNN creation\n",
        "'''\n",
        "def conv_model(num_filters, fs, dp, nn):\n",
        "\n",
        "  input = keras.layers.Input(shape=(28,28,1))\n",
        "  x = keras.layers.Conv2D(num_filters, fs, padding = \"same\")(input)        # filters, kernel size and padding changed\n",
        "  x = keras.layers.BatchNormalization()(x)                                 # layer that normalizes its inputs\n",
        "  x = keras.layers.MaxPooling2D(3)(x)                                      # our good old pooling\n",
        "  x = keras.layers.Dropout(dp)(x)                                          # helps prevent overfitting\n",
        "  x = keras.layers.PReLU()(x)                                              # Parametric Rectified Linear Unit\n",
        "\n",
        "  x = keras.layers.Conv2D(num_filters, fs, padding = \"same\")(x)            \n",
        "  x = keras.layers.BatchNormalization()(x)\n",
        "  x = keras.layers.MaxPooling2D(3)(x)   \n",
        "  x = keras.layers.Dropout(dp)(x)\n",
        "  x = keras.layers.PReLU()(x)\n",
        "  \n",
        "  x = keras.layers.Conv2D(num_filters, fs, padding = \"same\")(x)\n",
        "  x = keras.layers.BatchNormalization()(x) \n",
        "  x = keras.layers.MaxPooling2D(3)(x)  \n",
        "  x = keras.layers.Dropout(dp)(x)\n",
        "  x = keras.layers.PReLU()(x)\n",
        "\n",
        "  x = keras.layers.Flatten()(x)                                            # tensor/matrix to a vector\n",
        "  \n",
        "  '''\n",
        "  Full conection (ANN) \n",
        "  '''\n",
        "\n",
        "  x = keras.layers.Dense(nn, activation = 'relu')(x)                       # hidden layer (number of neurons) \n",
        "  output = keras.layers.Dense(10, activation = 'softmax')(x)               # 10 for 10 classes output\n",
        "\n",
        "  model = keras.models.Model(input, output, name = \"conv_net\")\n",
        "  return model"
      ]
    },
    {
      "cell_type": "code",
      "execution_count": null,
      "metadata": {
        "id": "S5IdRzEpfQ1i"
      },
      "outputs": [],
      "source": [
        "model = conv_model(nn = 50, num_filters = 300, fs = 3, dp = 0.6)           # in case I change my mind and wanted to change the hyperparameters"
      ]
    },
    {
      "cell_type": "code",
      "execution_count": null,
      "metadata": {
        "colab": {
          "base_uri": "https://localhost:8080/"
        },
        "id": "FNmxMpOigDI-",
        "outputId": "a6e51098-616a-4677-83c3-6e84b0ee89d8"
      },
      "outputs": [
        {
          "name": "stdout",
          "output_type": "stream",
          "text": [
            "Model: \"conv_net\"\n",
            "_________________________________________________________________\n",
            " Layer (type)                Output Shape              Param #   \n",
            "=================================================================\n",
            " input_1 (InputLayer)        [(None, 28, 28, 1)]       0         \n",
            "                                                                 \n",
            " conv2d (Conv2D)             (None, 28, 28, 300)       3000      \n",
            "                                                                 \n",
            " batch_normalization (BatchN  (None, 28, 28, 300)      1200      \n",
            " ormalization)                                                   \n",
            "                                                                 \n",
            " max_pooling2d (MaxPooling2D  (None, 9, 9, 300)        0         \n",
            " )                                                               \n",
            "                                                                 \n",
            " dropout (Dropout)           (None, 9, 9, 300)         0         \n",
            "                                                                 \n",
            " p_re_lu (PReLU)             (None, 9, 9, 300)         24300     \n",
            "                                                                 \n",
            " conv2d_1 (Conv2D)           (None, 9, 9, 300)         810300    \n",
            "                                                                 \n",
            " batch_normalization_1 (Batc  (None, 9, 9, 300)        1200      \n",
            " hNormalization)                                                 \n",
            "                                                                 \n",
            " max_pooling2d_1 (MaxPooling  (None, 3, 3, 300)        0         \n",
            " 2D)                                                             \n",
            "                                                                 \n",
            " dropout_1 (Dropout)         (None, 3, 3, 300)         0         \n",
            "                                                                 \n",
            " p_re_lu_1 (PReLU)           (None, 3, 3, 300)         2700      \n",
            "                                                                 \n",
            " conv2d_2 (Conv2D)           (None, 3, 3, 300)         810300    \n",
            "                                                                 \n",
            " batch_normalization_2 (Batc  (None, 3, 3, 300)        1200      \n",
            " hNormalization)                                                 \n",
            "                                                                 \n",
            " max_pooling2d_2 (MaxPooling  (None, 1, 1, 300)        0         \n",
            " 2D)                                                             \n",
            "                                                                 \n",
            " dropout_2 (Dropout)         (None, 1, 1, 300)         0         \n",
            "                                                                 \n",
            " p_re_lu_2 (PReLU)           (None, 1, 1, 300)         300       \n",
            "                                                                 \n",
            " flatten (Flatten)           (None, 300)               0         \n",
            "                                                                 \n",
            " dense (Dense)               (None, 50)                15050     \n",
            "                                                                 \n",
            " dense_1 (Dense)             (None, 10)                510       \n",
            "                                                                 \n",
            "=================================================================\n",
            "Total params: 1,670,060\n",
            "Trainable params: 1,668,260\n",
            "Non-trainable params: 1,800\n",
            "_________________________________________________________________\n"
          ]
        }
      ],
      "source": [
        "model.summary()                                                            # to see some important parameters"
      ]
    },
    {
      "cell_type": "code",
      "execution_count": null,
      "metadata": {
        "id": "inkMko9Rk7I0"
      },
      "outputs": [],
      "source": [
        "# tf.keras.backend.clear_session() # important for memory management, if you want to change the model"
      ]
    },
    {
      "cell_type": "code",
      "execution_count": null,
      "metadata": {
        "id": "VzuGUyzbgds7"
      },
      "outputs": [],
      "source": [
        "model.compile(optimizer= keras.optimizers.Adam(learning_rate=0.001),\n",
        "              loss=\"sparse_categorical_crossentropy\",\n",
        "              metrics =['accuracy'])\n",
        "# sparse for numerical classes (gives the class number)"
      ]
    },
    {
      "cell_type": "code",
      "execution_count": null,
      "metadata": {
        "id": "L9Vqo3p0k6dN"
      },
      "outputs": [],
      "source": []
    },
    {
      "cell_type": "code",
      "execution_count": null,
      "metadata": {
        "id": "B8hBolIoCaL5"
      },
      "outputs": [],
      "source": [
        "# what if we want some class weights??\n"
      ]
    },
    {
      "cell_type": "code",
      "execution_count": null,
      "metadata": {
        "colab": {
          "base_uri": "https://localhost:8080/"
        },
        "id": "2nODTXPehMla",
        "outputId": "75b7717e-499c-4875-ce7c-88f5fb6b0c85"
      },
      "outputs": [
        {
          "name": "stdout",
          "output_type": "stream",
          "text": [
            "Epoch 1/50\n",
            "938/938 [==============================] - 16s 6ms/step - loss: 0.9238 - accuracy: 0.6662 - val_loss: 0.4935 - val_accuracy: 0.8160\n",
            "Epoch 2/50\n",
            "938/938 [==============================] - 6s 6ms/step - loss: 0.5365 - accuracy: 0.8012 - val_loss: 0.4189 - val_accuracy: 0.8443\n",
            "Epoch 3/50\n",
            "938/938 [==============================] - 6s 6ms/step - loss: 0.4543 - accuracy: 0.8338 - val_loss: 0.3735 - val_accuracy: 0.8599\n",
            "Epoch 4/50\n",
            "938/938 [==============================] - 6s 6ms/step - loss: 0.4089 - accuracy: 0.8512 - val_loss: 0.3482 - val_accuracy: 0.8692\n",
            "Epoch 5/50\n",
            "938/938 [==============================] - 6s 6ms/step - loss: 0.3727 - accuracy: 0.8652 - val_loss: 0.3132 - val_accuracy: 0.8875\n",
            "Epoch 6/50\n",
            "938/938 [==============================] - 6s 6ms/step - loss: 0.3505 - accuracy: 0.8736 - val_loss: 0.3006 - val_accuracy: 0.8909\n",
            "Epoch 7/50\n",
            "938/938 [==============================] - 6s 6ms/step - loss: 0.3311 - accuracy: 0.8808 - val_loss: 0.2841 - val_accuracy: 0.8970\n",
            "Epoch 8/50\n",
            "938/938 [==============================] - 6s 6ms/step - loss: 0.3123 - accuracy: 0.8872 - val_loss: 0.2739 - val_accuracy: 0.8998\n",
            "Epoch 9/50\n",
            "938/938 [==============================] - 6s 6ms/step - loss: 0.3023 - accuracy: 0.8907 - val_loss: 0.2747 - val_accuracy: 0.8981\n",
            "Epoch 10/50\n",
            "938/938 [==============================] - 6s 6ms/step - loss: 0.2903 - accuracy: 0.8937 - val_loss: 0.2720 - val_accuracy: 0.9027\n",
            "Epoch 11/50\n",
            "938/938 [==============================] - 6s 6ms/step - loss: 0.2769 - accuracy: 0.8993 - val_loss: 0.2500 - val_accuracy: 0.9103\n",
            "Epoch 12/50\n",
            "938/938 [==============================] - 6s 6ms/step - loss: 0.2720 - accuracy: 0.9017 - val_loss: 0.2514 - val_accuracy: 0.9103\n",
            "Epoch 13/50\n",
            "938/938 [==============================] - 6s 6ms/step - loss: 0.2646 - accuracy: 0.9036 - val_loss: 0.2504 - val_accuracy: 0.9097\n",
            "Epoch 14/50\n",
            "938/938 [==============================] - 6s 6ms/step - loss: 0.2571 - accuracy: 0.9062 - val_loss: 0.2465 - val_accuracy: 0.9124\n",
            "Epoch 15/50\n",
            "938/938 [==============================] - 6s 6ms/step - loss: 0.2530 - accuracy: 0.9086 - val_loss: 0.2526 - val_accuracy: 0.9071\n",
            "Epoch 16/50\n",
            "938/938 [==============================] - 6s 6ms/step - loss: 0.2516 - accuracy: 0.9086 - val_loss: 0.2538 - val_accuracy: 0.9084\n",
            "Epoch 17/50\n",
            "938/938 [==============================] - 6s 6ms/step - loss: 0.2456 - accuracy: 0.9101 - val_loss: 0.2762 - val_accuracy: 0.8988\n",
            "Epoch 18/50\n",
            "938/938 [==============================] - 6s 6ms/step - loss: 0.2415 - accuracy: 0.9118 - val_loss: 0.2360 - val_accuracy: 0.9139\n",
            "Epoch 19/50\n",
            "938/938 [==============================] - 6s 6ms/step - loss: 0.2377 - accuracy: 0.9130 - val_loss: 0.2462 - val_accuracy: 0.9100\n",
            "Epoch 20/50\n",
            "938/938 [==============================] - 6s 6ms/step - loss: 0.2376 - accuracy: 0.9130 - val_loss: 0.2433 - val_accuracy: 0.9135\n",
            "Epoch 21/50\n",
            "938/938 [==============================] - 6s 6ms/step - loss: 0.2342 - accuracy: 0.9151 - val_loss: 0.2452 - val_accuracy: 0.9114\n",
            "Epoch 22/50\n",
            "938/938 [==============================] - 6s 6ms/step - loss: 0.2305 - accuracy: 0.9148 - val_loss: 0.2309 - val_accuracy: 0.9172\n",
            "Epoch 23/50\n",
            "938/938 [==============================] - 6s 6ms/step - loss: 0.2285 - accuracy: 0.9166 - val_loss: 0.2272 - val_accuracy: 0.9190\n",
            "Epoch 24/50\n",
            "938/938 [==============================] - 6s 6ms/step - loss: 0.2259 - accuracy: 0.9172 - val_loss: 0.2320 - val_accuracy: 0.9176\n",
            "Epoch 25/50\n",
            "938/938 [==============================] - 6s 6ms/step - loss: 0.2244 - accuracy: 0.9174 - val_loss: 0.2619 - val_accuracy: 0.9041\n",
            "Epoch 26/50\n",
            "938/938 [==============================] - 6s 6ms/step - loss: 0.2201 - accuracy: 0.9198 - val_loss: 0.2289 - val_accuracy: 0.9166\n",
            "Epoch 27/50\n",
            "938/938 [==============================] - 6s 6ms/step - loss: 0.2188 - accuracy: 0.9188 - val_loss: 0.2328 - val_accuracy: 0.9156\n",
            "Epoch 28/50\n",
            "938/938 [==============================] - 6s 6ms/step - loss: 0.2172 - accuracy: 0.9206 - val_loss: 0.2356 - val_accuracy: 0.9177\n",
            "Epoch 29/50\n",
            "938/938 [==============================] - 6s 6ms/step - loss: 0.2134 - accuracy: 0.9208 - val_loss: 0.2256 - val_accuracy: 0.9199\n",
            "Epoch 30/50\n",
            "938/938 [==============================] - 6s 6ms/step - loss: 0.2136 - accuracy: 0.9206 - val_loss: 0.2220 - val_accuracy: 0.9234\n",
            "Epoch 31/50\n",
            "938/938 [==============================] - 6s 6ms/step - loss: 0.2107 - accuracy: 0.9210 - val_loss: 0.2141 - val_accuracy: 0.9238\n",
            "Epoch 32/50\n",
            "938/938 [==============================] - 6s 6ms/step - loss: 0.2102 - accuracy: 0.9229 - val_loss: 0.2332 - val_accuracy: 0.9157\n",
            "Epoch 33/50\n",
            "938/938 [==============================] - 6s 6ms/step - loss: 0.2083 - accuracy: 0.9241 - val_loss: 0.2229 - val_accuracy: 0.9204\n",
            "Epoch 34/50\n",
            "938/938 [==============================] - 6s 6ms/step - loss: 0.2105 - accuracy: 0.9231 - val_loss: 0.2325 - val_accuracy: 0.9169\n",
            "Epoch 35/50\n",
            "938/938 [==============================] - 6s 6ms/step - loss: 0.2034 - accuracy: 0.9247 - val_loss: 0.2165 - val_accuracy: 0.9234\n",
            "Epoch 36/50\n",
            "938/938 [==============================] - 6s 6ms/step - loss: 0.2026 - accuracy: 0.9254 - val_loss: 0.2199 - val_accuracy: 0.9203\n",
            "Epoch 37/50\n",
            "938/938 [==============================] - 6s 6ms/step - loss: 0.2006 - accuracy: 0.9259 - val_loss: 0.2201 - val_accuracy: 0.9216\n",
            "Epoch 38/50\n",
            "938/938 [==============================] - 6s 6ms/step - loss: 0.2005 - accuracy: 0.9257 - val_loss: 0.2166 - val_accuracy: 0.9254\n",
            "Epoch 39/50\n",
            "938/938 [==============================] - 6s 6ms/step - loss: 0.2008 - accuracy: 0.9252 - val_loss: 0.2132 - val_accuracy: 0.9250\n",
            "Epoch 40/50\n",
            "938/938 [==============================] - 6s 6ms/step - loss: 0.1975 - accuracy: 0.9263 - val_loss: 0.2118 - val_accuracy: 0.9254\n",
            "Epoch 41/50\n",
            "938/938 [==============================] - 6s 6ms/step - loss: 0.1945 - accuracy: 0.9274 - val_loss: 0.2158 - val_accuracy: 0.9255\n",
            "Epoch 42/50\n",
            "938/938 [==============================] - 6s 6ms/step - loss: 0.1947 - accuracy: 0.9285 - val_loss: 0.2117 - val_accuracy: 0.9238\n",
            "Epoch 43/50\n",
            "938/938 [==============================] - 6s 6ms/step - loss: 0.1960 - accuracy: 0.9290 - val_loss: 0.2245 - val_accuracy: 0.9218\n",
            "Epoch 44/50\n",
            "938/938 [==============================] - 6s 6ms/step - loss: 0.1936 - accuracy: 0.9282 - val_loss: 0.2196 - val_accuracy: 0.9254\n",
            "Epoch 45/50\n",
            "938/938 [==============================] - 6s 6ms/step - loss: 0.1912 - accuracy: 0.9281 - val_loss: 0.2151 - val_accuracy: 0.9265\n",
            "Epoch 46/50\n",
            "938/938 [==============================] - 6s 6ms/step - loss: 0.1893 - accuracy: 0.9299 - val_loss: 0.2131 - val_accuracy: 0.9271\n",
            "Epoch 47/50\n",
            "938/938 [==============================] - 6s 6ms/step - loss: 0.1906 - accuracy: 0.9301 - val_loss: 0.2134 - val_accuracy: 0.9252\n",
            "Epoch 48/50\n",
            "938/938 [==============================] - 6s 6ms/step - loss: 0.1864 - accuracy: 0.9302 - val_loss: 0.2136 - val_accuracy: 0.9265\n",
            "Epoch 49/50\n",
            "938/938 [==============================] - 6s 6ms/step - loss: 0.1864 - accuracy: 0.9303 - val_loss: 0.2151 - val_accuracy: 0.9298\n",
            "Epoch 50/50\n",
            "938/938 [==============================] - 6s 6ms/step - loss: 0.1844 - accuracy: 0.9311 - val_loss: 0.2124 - val_accuracy: 0.9281\n"
          ]
        }
      ],
      "source": [
        " cnn = model.fit(x_train,y_train, validation_data=(x_test,y_test), batch_size = 64, epochs=50)\n",
        "                                                                   # good batch size, and epoch number\n",
        "'''\n",
        "validation data its used for applying in the test set for a preview (only). It is not used for balancing the weights, so it does not matter if the val_data uses\n",
        "the test set, as it is just for visualization\n",
        "'''\n"
      ]
    },
    {
      "cell_type": "code",
      "execution_count": null,
      "metadata": {
        "colab": {
          "base_uri": "https://localhost:8080/"
        },
        "id": "2eWkZKrKTJf1",
        "outputId": "334d0a5a-b63b-4b48-eab9-8b123aa9f923"
      },
      "outputs": [
        {
          "name": "stderr",
          "output_type": "stream",
          "text": [
            "WARNING:absl:Found untraced functions such as _jit_compiled_convolution_op, _jit_compiled_convolution_op, _jit_compiled_convolution_op while saving (showing 3 of 3). These functions will not be directly callable after loading.\n"
          ]
        }
      ],
      "source": [
        "model.save('path/to/save/file/name') # VERY IMPORTANT! This is the model used for the API"
      ]
    },
    {
      "cell_type": "code",
      "execution_count": null,
      "metadata": {
        "id": "6pFo-Tq6UEWZ"
      },
      "outputs": [],
      "source": [
        "cnn_model = tf.keras.models.load_model('path/to/load/file/name')"
      ]
    },
    {
      "cell_type": "markdown",
      "metadata": {
        "id": "NsJiiEdnZ5EZ"
      },
      "source": [
        "#### Using the CNN to predict the test values"
      ]
    },
    {
      "cell_type": "code",
      "execution_count": null,
      "metadata": {
        "colab": {
          "base_uri": "https://localhost:8080/"
        },
        "id": "kLpWRisFURvD",
        "outputId": "209daaa7-fee9-4c0e-f181-ee1dcce66355"
      },
      "outputs": [
        {
          "name": "stdout",
          "output_type": "stream",
          "text": [
            "313/313 [==============================] - 1s 4ms/step\n"
          ]
        }
      ],
      "source": [
        "y_pred = cnn_model.predict(x_test)"
      ]
    },
    {
      "cell_type": "markdown",
      "metadata": {
        "id": "eWlpM_jjaPX2"
      },
      "source": [
        "#### And plotting some metrics (accuracy and loss)"
      ]
    },
    {
      "cell_type": "code",
      "execution_count": null,
      "metadata": {
        "id": "Lvd-W1IAZywk"
      },
      "outputs": [],
      "source": [
        "var_epochs = list(range(1,51))"
      ]
    },
    {
      "cell_type": "code",
      "execution_count": null,
      "metadata": {
        "colab": {
          "base_uri": "https://localhost:8080/",
          "height": 279
        },
        "id": "h1IX4HmGZ9Iz",
        "outputId": "af7060ba-b300-4383-bdde-5c0e958bd1d2"
      },
      "outputs": [
        {
          "data": {
            "image/png": "[encoded data removed]",
            "text/plain": [
              "<Figure size 432x288 with 1 Axes>"
            ]
          },
          "metadata": {
            "needs_background": "light"
          },
          "output_type": "display_data"
        }
      ],
      "source": [
        "plt.plot(var_epochs, cnn.history['accuracy'], c = 'r', label = 'model accuracy')\n",
        "plt.plot(var_epochs, cnn.history['val_accuracy'], c = 'b', label = 'validation model accuracy')\n",
        "plt.xlabel('epochs')\n",
        "plt.ylabel('accuracy')\n",
        "plt.legend()\n",
        "plt.grid()\n",
        "plt.show()"
      ]
    },
    {
      "cell_type": "code",
      "execution_count": null,
      "metadata": {
        "colab": {
          "base_uri": "https://localhost:8080/",
          "height": 279
        },
        "id": "Q8AQWqVSL1iJ",
        "outputId": "2c1256c8-b19e-4eb3-9448-587caba0b273"
      },
      "outputs": [
        {
          "data": {
            "image/png": "[encoded data removed]",
            "text/plain": [
              "<Figure size 432x288 with 1 Axes>"
            ]
          },
          "metadata": {
            "needs_background": "light"
          },
          "output_type": "display_data"
        }
      ],
      "source": [
        "plt.plot(var_epochs, cnn.history['loss'], c = 'r', label = 'model loss')\n",
        "plt.plot(var_epochs, cnn.history['val_loss'], c = 'b', label = 'validation model loss')\n",
        "plt.xlabel('epochs')\n",
        "plt.ylabel('loss')\n",
        "plt.legend()\n",
        "plt.grid()\n",
        "plt.show()"
      ]
    },
    {
      "cell_type": "markdown",
      "metadata": {
        "id": "Ugb5HIc6ad0h"
      },
      "source": [
        "As we can see, from 30 to 50 epochs, we have a slow increase in our accuracy, showing that after about 30 epochs, the model converged!"
      ]
    }
  ],
  "metadata": {
    "accelerator": "GPU",
    "colab": {
      "collapsed_sections": [],
      "machine_shape": "hm",
      "provenance": []
    },
    "gpuClass": "premium",
    "kernelspec": {
      "display_name": "Python 3.9.7 ('jupyter-pyroot')",
      "language": "python",
      "name": "python3"
    },
    "language_info": {
      "codemirror_mode": {
        "name": "ipython",
        "version": 3
      },
      "file_extension": ".py",
      "mimetype": "text/x-python",
      "name": "python",
      "nbconvert_exporter": "python",
      "pygments_lexer": "ipython3",
      "version": "3.9.7"
    },
    "vscode": {
      "interpreter": {
        "hash": "6ba031d096edee3396909c9ef5a20041743fbc3716776c13d127be5c1a4d0eea"
      }
    }
  },
  "nbformat": 4,
  "nbformat_minor": 0
}
